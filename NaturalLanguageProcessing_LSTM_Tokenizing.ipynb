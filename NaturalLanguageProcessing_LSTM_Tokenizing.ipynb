{
  "nbformat": 4,
  "nbformat_minor": 0,
  "metadata": {
    "colab": {
      "name": "NaturalLanguageProcessing-LSTM-Tokenizing.ipynb",
      "provenance": [],
      "authorship_tag": "ABX9TyNUOOME1D8zEC6rzuWHjEnj",
      "include_colab_link": true
    },
    "kernelspec": {
      "name": "python3",
      "display_name": "Python 3"
    },
    "accelerator": "GPU"
  },
  "cells": [
    {
      "cell_type": "markdown",
      "metadata": {
        "id": "view-in-github",
        "colab_type": "text"
      },
      "source": [
        "<a href=\"https://colab.research.google.com/github/Arazsh/TensorFlow-in-Practice/blob/master/NaturalLanguageProcessing_LSTM_Tokenizing.ipynb\" target=\"_parent\"><img src=\"https://colab.research.google.com/assets/colab-badge.svg\" alt=\"Open In Colab\"/></a>"
      ]
    },
    {
      "cell_type": "markdown",
      "metadata": {
        "id": "6WoBr9EeU56Q",
        "colab_type": "text"
      },
      "source": [
        "This is an example of Natural Language Processing (NLP) using TensorFlow. In this code, the sentences (sequences of words) in a body of text which are in fact parts of a poem, are tokenized and used to train a RNN that is equiped with LSTM layers. Then, a sentence is used as an input to the trained network in order to create new words that their sequence is similar to a poem itself. Since the dataset is fairly small and the model is simple, we cannat expect the model to create a real poem. But, creating new words based on the sequences of words can be one intresting application of NLP.  \n"
      ]
    },
    {
      "cell_type": "code",
      "metadata": {
        "cellView": "form",
        "colab_type": "code",
        "id": "BZSlp3DAjdYf",
        "colab": {}
      },
      "source": [
        "#@title Licensed under the Apache License, Version 2.0 (the \"License\");\n",
        "# you may not use this file except in compliance with the License.\n",
        "# You may obtain a copy of the License at\n",
        "#\n",
        "# https://www.apache.org/licenses/LICENSE-2.0\n",
        "#\n",
        "# Unless required by applicable law or agreed to in writing, software\n",
        "# distributed under the License is distributed on an \"AS IS\" BASIS,\n",
        "# WITHOUT WARRANTIES OR CONDITIONS OF ANY KIND, either express or implied.\n",
        "# See the License for the specific language governing permissions and\n",
        "# limitations under the License."
      ],
      "execution_count": null,
      "outputs": []
    },
    {
      "cell_type": "code",
      "metadata": {
        "id": "59aTRnMKWd0_",
        "colab_type": "code",
        "colab": {}
      },
      "source": [
        "#loading necessary libraries\n",
        "from tensorflow.keras.preprocessing.sequence import pad_sequences\n",
        "from tensorflow.keras.layers import Embedding, LSTM, Dense, Dropout, Bidirectional\n",
        "from tensorflow.keras.preprocessing.text import Tokenizer\n",
        "from tensorflow.keras.models import Sequential\n",
        "from tensorflow.keras.optimizers import Adam\n",
        "from tensorflow.keras import regularizers\n",
        "import tensorflow.keras.utils as ku \n",
        "import numpy as np "
      ],
      "execution_count": null,
      "outputs": []
    },
    {
      "cell_type": "code",
      "metadata": {
        "id": "UV7ay4cpXnuu",
        "colab_type": "code",
        "colab": {
          "base_uri": "https://localhost:8080/",
          "height": 202
        },
        "outputId": "3cdfd4d0-9cf9-424f-fdce-e4a90c4e5d16"
      },
      "source": [
        "#Calling the Tokenizer\n",
        "tokenizer = Tokenizer()\n",
        "#Downlaoding the training sentences\n",
        "!wget --no-check-certificate \\\n",
        "    https://storage.googleapis.com/laurencemoroney-blog.appspot.com/sonnets.txt \\\n",
        "    -O /tmp/sonnets.txt\n",
        "\n",
        "#Reading the sentences and tokenizing the words\n",
        "data = open('/tmp/sonnets.txt').read()\n",
        "\n",
        "corpus = data.lower().split(\"\\n\")\n",
        "\n",
        "\n",
        "tokenizer.fit_on_texts(corpus)\n",
        "total_words = len(tokenizer.word_index) + 1\n",
        "\n",
        "# create input sequences using list of tokens\n",
        "input_sequences = []\n",
        "for line in corpus:\n",
        "\ttoken_list = tokenizer.texts_to_sequences([line])[0]\n",
        "\tfor i in range(1, len(token_list)):\n",
        "\t\tn_gram_sequence = token_list[:i+1]\n",
        "\t\tinput_sequences.append(n_gram_sequence)\n",
        "\n",
        "\n",
        "# pad sequences \n",
        "max_sequence_len = max([len(x) for x in input_sequences])\n",
        "input_sequences = np.array(pad_sequences(input_sequences, maxlen=max_sequence_len, padding='pre'))\n",
        "\n",
        "# create predictors and label\n",
        "predictors, label = input_sequences[:,:-1],input_sequences[:,-1]\n",
        "\n",
        "label = ku.to_categorical(label, num_classes=total_words)"
      ],
      "execution_count": null,
      "outputs": [
        {
          "output_type": "stream",
          "text": [
            "--2020-08-11 02:56:11--  https://storage.googleapis.com/laurencemoroney-blog.appspot.com/sonnets.txt\n",
            "Resolving storage.googleapis.com (storage.googleapis.com)... 64.233.189.128, 108.177.97.128, 108.177.125.128, ...\n",
            "Connecting to storage.googleapis.com (storage.googleapis.com)|64.233.189.128|:443... connected.\n",
            "HTTP request sent, awaiting response... 200 OK\n",
            "Length: 93578 (91K) [text/plain]\n",
            "Saving to: ‘/tmp/sonnets.txt’\n",
            "\n",
            "\r/tmp/sonnets.txt      0%[                    ]       0  --.-KB/s               \r/tmp/sonnets.txt    100%[===================>]  91.38K  --.-KB/s    in 0.001s  \n",
            "\n",
            "2020-08-11 02:56:11 (92.8 MB/s) - ‘/tmp/sonnets.txt’ saved [93578/93578]\n",
            "\n"
          ],
          "name": "stdout"
        }
      ]
    },
    {
      "cell_type": "code",
      "metadata": {
        "id": "JYxI9ICCaODl",
        "colab_type": "code",
        "colab": {
          "base_uri": "https://localhost:8080/",
          "height": 370
        },
        "outputId": "17e7a1ed-23c1-49b1-bba0-27ce02e2ae2c"
      },
      "source": [
        "#Building the model with two LSTM layers. The l2 regularization is used to reduce the over-fitting issue. \n",
        "model = Sequential()\n",
        "model.add(Embedding(total_words, 100, input_length=max_sequence_len-1))\n",
        "model.add(Bidirectional(LSTM(150, return_sequences = True)))\n",
        "model.add(Dropout(0.2))\n",
        "model.add(LSTM(100))\n",
        "model.add(Dense(total_words/2, activation='relu', kernel_regularizer=regularizers.l2(0.01)))\n",
        "model.add(Dense(total_words, activation='softmax'))\n",
        "model.compile(loss='categorical_crossentropy', optimizer='adam', metrics=['accuracy'])\n",
        "print(model.summary())"
      ],
      "execution_count": null,
      "outputs": [
        {
          "output_type": "stream",
          "text": [
            "Model: \"sequential\"\n",
            "_________________________________________________________________\n",
            "Layer (type)                 Output Shape              Param #   \n",
            "=================================================================\n",
            "embedding (Embedding)        (None, 10, 100)           321100    \n",
            "_________________________________________________________________\n",
            "bidirectional (Bidirectional (None, 10, 300)           301200    \n",
            "_________________________________________________________________\n",
            "dropout (Dropout)            (None, 10, 300)           0         \n",
            "_________________________________________________________________\n",
            "lstm_1 (LSTM)                (None, 100)               160400    \n",
            "_________________________________________________________________\n",
            "dense (Dense)                (None, 1605)              162105    \n",
            "_________________________________________________________________\n",
            "dense_1 (Dense)              (None, 3211)              5156866   \n",
            "=================================================================\n",
            "Total params: 6,101,671\n",
            "Trainable params: 6,101,671\n",
            "Non-trainable params: 0\n",
            "_________________________________________________________________\n",
            "None\n"
          ],
          "name": "stdout"
        }
      ]
    },
    {
      "cell_type": "code",
      "metadata": {
        "id": "khSib4R2cXId",
        "colab_type": "code",
        "colab": {
          "base_uri": "https://localhost:8080/",
          "height": 1000
        },
        "outputId": "db6a0de2-dbf9-490c-b50c-6e9b3ac61f5d"
      },
      "source": [
        "history = model.fit(predictors, label, epochs=100, verbose=1)"
      ],
      "execution_count": null,
      "outputs": [
        {
          "output_type": "stream",
          "text": [
            "Epoch 1/100\n",
            "484/484 [==============================] - 13s 27ms/step - loss: 6.8982 - accuracy: 0.0223\n",
            "Epoch 2/100\n",
            "484/484 [==============================] - 13s 27ms/step - loss: 6.4999 - accuracy: 0.0226\n",
            "Epoch 3/100\n",
            "484/484 [==============================] - 13s 27ms/step - loss: 6.4047 - accuracy: 0.0254\n",
            "Epoch 4/100\n",
            "484/484 [==============================] - 13s 27ms/step - loss: 6.2927 - accuracy: 0.0295\n",
            "Epoch 5/100\n",
            "484/484 [==============================] - 13s 28ms/step - loss: 6.1953 - accuracy: 0.0351\n",
            "Epoch 6/100\n",
            "484/484 [==============================] - 13s 27ms/step - loss: 6.1096 - accuracy: 0.0399\n",
            "Epoch 7/100\n",
            "484/484 [==============================] - 13s 27ms/step - loss: 6.0376 - accuracy: 0.0404\n",
            "Epoch 8/100\n",
            "484/484 [==============================] - 13s 27ms/step - loss: 5.9518 - accuracy: 0.0466\n",
            "Epoch 9/100\n",
            "484/484 [==============================] - 13s 27ms/step - loss: 5.8552 - accuracy: 0.0521\n",
            "Epoch 10/100\n",
            "484/484 [==============================] - 13s 27ms/step - loss: 5.7527 - accuracy: 0.0571\n",
            "Epoch 11/100\n",
            "484/484 [==============================] - 13s 27ms/step - loss: 5.6493 - accuracy: 0.0607\n",
            "Epoch 12/100\n",
            "484/484 [==============================] - 13s 27ms/step - loss: 5.5491 - accuracy: 0.0671\n",
            "Epoch 13/100\n",
            "484/484 [==============================] - 14s 28ms/step - loss: 5.4511 - accuracy: 0.0702\n",
            "Epoch 14/100\n",
            "484/484 [==============================] - 13s 27ms/step - loss: 5.3560 - accuracy: 0.0778\n",
            "Epoch 15/100\n",
            "484/484 [==============================] - 13s 27ms/step - loss: 5.2558 - accuracy: 0.0826\n",
            "Epoch 16/100\n",
            "484/484 [==============================] - 13s 27ms/step - loss: 5.1650 - accuracy: 0.0892\n",
            "Epoch 17/100\n",
            "484/484 [==============================] - 13s 27ms/step - loss: 5.0707 - accuracy: 0.0955\n",
            "Epoch 18/100\n",
            "484/484 [==============================] - 13s 27ms/step - loss: 4.9735 - accuracy: 0.1041\n",
            "Epoch 19/100\n",
            "484/484 [==============================] - 13s 27ms/step - loss: 4.8802 - accuracy: 0.1107\n",
            "Epoch 20/100\n",
            "484/484 [==============================] - 13s 27ms/step - loss: 4.7859 - accuracy: 0.1192\n",
            "Epoch 21/100\n",
            "484/484 [==============================] - 13s 27ms/step - loss: 4.6972 - accuracy: 0.1244\n",
            "Epoch 22/100\n",
            "484/484 [==============================] - 13s 27ms/step - loss: 4.6007 - accuracy: 0.1335\n",
            "Epoch 23/100\n",
            "484/484 [==============================] - 13s 27ms/step - loss: 4.4993 - accuracy: 0.1428\n",
            "Epoch 24/100\n",
            "484/484 [==============================] - 13s 27ms/step - loss: 4.4078 - accuracy: 0.1518\n",
            "Epoch 25/100\n",
            "484/484 [==============================] - 13s 27ms/step - loss: 4.3159 - accuracy: 0.1618\n",
            "Epoch 26/100\n",
            "484/484 [==============================] - 13s 27ms/step - loss: 4.2217 - accuracy: 0.1718\n",
            "Epoch 27/100\n",
            "484/484 [==============================] - 13s 27ms/step - loss: 4.1296 - accuracy: 0.1861\n",
            "Epoch 28/100\n",
            "484/484 [==============================] - 13s 27ms/step - loss: 4.0417 - accuracy: 0.1955\n",
            "Epoch 29/100\n",
            "484/484 [==============================] - 13s 27ms/step - loss: 3.9466 - accuracy: 0.2115\n",
            "Epoch 30/100\n",
            "484/484 [==============================] - 13s 27ms/step - loss: 3.8602 - accuracy: 0.2262\n",
            "Epoch 31/100\n",
            "484/484 [==============================] - 13s 27ms/step - loss: 3.7733 - accuracy: 0.2435\n",
            "Epoch 32/100\n",
            "484/484 [==============================] - 13s 27ms/step - loss: 3.6833 - accuracy: 0.2566\n",
            "Epoch 33/100\n",
            "484/484 [==============================] - 13s 27ms/step - loss: 3.6032 - accuracy: 0.2738\n",
            "Epoch 34/100\n",
            "484/484 [==============================] - 13s 27ms/step - loss: 3.5174 - accuracy: 0.2960\n",
            "Epoch 35/100\n",
            "484/484 [==============================] - 13s 27ms/step - loss: 3.4358 - accuracy: 0.3104\n",
            "Epoch 36/100\n",
            "484/484 [==============================] - 13s 27ms/step - loss: 3.3545 - accuracy: 0.3309\n",
            "Epoch 37/100\n",
            "484/484 [==============================] - 13s 28ms/step - loss: 3.2887 - accuracy: 0.3445\n",
            "Epoch 38/100\n",
            "484/484 [==============================] - 13s 27ms/step - loss: 3.2022 - accuracy: 0.3633\n",
            "Epoch 39/100\n",
            "484/484 [==============================] - 13s 27ms/step - loss: 3.1310 - accuracy: 0.3772\n",
            "Epoch 40/100\n",
            "484/484 [==============================] - 13s 28ms/step - loss: 3.0749 - accuracy: 0.3907\n",
            "Epoch 41/100\n",
            "484/484 [==============================] - 13s 28ms/step - loss: 3.0130 - accuracy: 0.4100\n",
            "Epoch 42/100\n",
            "484/484 [==============================] - 14s 28ms/step - loss: 2.9410 - accuracy: 0.4207\n",
            "Epoch 43/100\n",
            "484/484 [==============================] - 13s 28ms/step - loss: 2.8643 - accuracy: 0.4380\n",
            "Epoch 44/100\n",
            "484/484 [==============================] - 13s 27ms/step - loss: 2.8135 - accuracy: 0.4479\n",
            "Epoch 45/100\n",
            "484/484 [==============================] - 13s 27ms/step - loss: 2.7675 - accuracy: 0.4606\n",
            "Epoch 46/100\n",
            "484/484 [==============================] - 13s 27ms/step - loss: 2.6987 - accuracy: 0.4754\n",
            "Epoch 47/100\n",
            "484/484 [==============================] - 13s 27ms/step - loss: 2.6440 - accuracy: 0.4878\n",
            "Epoch 48/100\n",
            "484/484 [==============================] - 13s 27ms/step - loss: 2.5746 - accuracy: 0.5072\n",
            "Epoch 49/100\n",
            "484/484 [==============================] - 13s 27ms/step - loss: 2.5391 - accuracy: 0.5118\n",
            "Epoch 50/100\n",
            "484/484 [==============================] - 13s 27ms/step - loss: 2.4700 - accuracy: 0.5286\n",
            "Epoch 51/100\n",
            "484/484 [==============================] - 13s 27ms/step - loss: 2.4260 - accuracy: 0.5413\n",
            "Epoch 52/100\n",
            "484/484 [==============================] - 13s 27ms/step - loss: 2.3871 - accuracy: 0.5493\n",
            "Epoch 53/100\n",
            "484/484 [==============================] - 13s 27ms/step - loss: 2.3428 - accuracy: 0.5599\n",
            "Epoch 54/100\n",
            "484/484 [==============================] - 13s 27ms/step - loss: 2.2887 - accuracy: 0.5720\n",
            "Epoch 55/100\n",
            "484/484 [==============================] - 13s 27ms/step - loss: 2.2473 - accuracy: 0.5765\n",
            "Epoch 56/100\n",
            "484/484 [==============================] - 13s 27ms/step - loss: 2.2161 - accuracy: 0.5873\n",
            "Epoch 57/100\n",
            "484/484 [==============================] - 13s 27ms/step - loss: 2.1642 - accuracy: 0.5980\n",
            "Epoch 58/100\n",
            "484/484 [==============================] - 13s 27ms/step - loss: 2.1249 - accuracy: 0.6087\n",
            "Epoch 59/100\n",
            "484/484 [==============================] - 13s 27ms/step - loss: 2.0700 - accuracy: 0.6218\n",
            "Epoch 60/100\n",
            "484/484 [==============================] - 13s 28ms/step - loss: 2.0440 - accuracy: 0.6250\n",
            "Epoch 61/100\n",
            "484/484 [==============================] - 13s 27ms/step - loss: 2.0166 - accuracy: 0.6325\n",
            "Epoch 62/100\n",
            "484/484 [==============================] - 13s 27ms/step - loss: 1.9877 - accuracy: 0.6398\n",
            "Epoch 63/100\n",
            "484/484 [==============================] - 13s 27ms/step - loss: 1.9536 - accuracy: 0.6411\n",
            "Epoch 64/100\n",
            "484/484 [==============================] - 13s 27ms/step - loss: 1.9340 - accuracy: 0.6481\n",
            "Epoch 65/100\n",
            "484/484 [==============================] - 13s 27ms/step - loss: 1.8806 - accuracy: 0.6630\n",
            "Epoch 66/100\n",
            "484/484 [==============================] - 13s 27ms/step - loss: 1.8390 - accuracy: 0.6717\n",
            "Epoch 67/100\n",
            "484/484 [==============================] - 13s 27ms/step - loss: 1.8276 - accuracy: 0.6750\n",
            "Epoch 68/100\n",
            "484/484 [==============================] - 13s 27ms/step - loss: 1.7953 - accuracy: 0.6787\n",
            "Epoch 69/100\n",
            "484/484 [==============================] - 13s 27ms/step - loss: 1.7583 - accuracy: 0.6895\n",
            "Epoch 70/100\n",
            "484/484 [==============================] - 13s 27ms/step - loss: 1.7319 - accuracy: 0.6924\n",
            "Epoch 71/100\n",
            "484/484 [==============================] - 13s 27ms/step - loss: 1.7082 - accuracy: 0.6973\n",
            "Epoch 72/100\n",
            "484/484 [==============================] - 13s 27ms/step - loss: 1.6823 - accuracy: 0.7041\n",
            "Epoch 73/100\n",
            "484/484 [==============================] - 13s 27ms/step - loss: 1.6764 - accuracy: 0.7018\n",
            "Epoch 74/100\n",
            "484/484 [==============================] - 13s 27ms/step - loss: 1.6403 - accuracy: 0.7097\n",
            "Epoch 75/100\n",
            "484/484 [==============================] - 13s 27ms/step - loss: 1.6139 - accuracy: 0.7184\n",
            "Epoch 76/100\n",
            "484/484 [==============================] - 13s 27ms/step - loss: 1.5831 - accuracy: 0.7242\n",
            "Epoch 77/100\n",
            "484/484 [==============================] - 13s 27ms/step - loss: 1.5501 - accuracy: 0.7312\n",
            "Epoch 78/100\n",
            "484/484 [==============================] - 13s 27ms/step - loss: 1.5515 - accuracy: 0.7275\n",
            "Epoch 79/100\n",
            "484/484 [==============================] - 13s 27ms/step - loss: 1.5352 - accuracy: 0.7300\n",
            "Epoch 80/100\n",
            "484/484 [==============================] - 13s 28ms/step - loss: 1.5092 - accuracy: 0.7390\n",
            "Epoch 81/100\n",
            "484/484 [==============================] - 14s 28ms/step - loss: 1.4947 - accuracy: 0.7385\n",
            "Epoch 82/100\n",
            "484/484 [==============================] - 14s 28ms/step - loss: 1.4659 - accuracy: 0.7466\n",
            "Epoch 83/100\n",
            "484/484 [==============================] - 14s 28ms/step - loss: 1.4497 - accuracy: 0.7489\n",
            "Epoch 84/100\n",
            "484/484 [==============================] - 14s 29ms/step - loss: 1.4463 - accuracy: 0.7468\n",
            "Epoch 85/100\n",
            "484/484 [==============================] - 13s 27ms/step - loss: 1.4192 - accuracy: 0.7523\n",
            "Epoch 86/100\n",
            "484/484 [==============================] - 13s 28ms/step - loss: 1.4071 - accuracy: 0.7579\n",
            "Epoch 87/100\n",
            "484/484 [==============================] - 13s 28ms/step - loss: 1.3757 - accuracy: 0.7647\n",
            "Epoch 88/100\n",
            "484/484 [==============================] - 13s 28ms/step - loss: 1.3717 - accuracy: 0.7624\n",
            "Epoch 89/100\n",
            "484/484 [==============================] - 13s 28ms/step - loss: 1.3524 - accuracy: 0.7665\n",
            "Epoch 90/100\n",
            "484/484 [==============================] - 13s 27ms/step - loss: 1.3549 - accuracy: 0.7641\n",
            "Epoch 91/100\n",
            "484/484 [==============================] - 13s 27ms/step - loss: 1.3238 - accuracy: 0.7754\n",
            "Epoch 92/100\n",
            "484/484 [==============================] - 13s 28ms/step - loss: 1.3093 - accuracy: 0.7769\n",
            "Epoch 93/100\n",
            "484/484 [==============================] - 13s 27ms/step - loss: 1.3002 - accuracy: 0.7760\n",
            "Epoch 94/100\n",
            "484/484 [==============================] - 13s 27ms/step - loss: 1.2856 - accuracy: 0.7787\n",
            "Epoch 95/100\n",
            "484/484 [==============================] - 13s 27ms/step - loss: 1.2789 - accuracy: 0.7798\n",
            "Epoch 96/100\n",
            "484/484 [==============================] - 13s 27ms/step - loss: 1.2770 - accuracy: 0.7804\n",
            "Epoch 97/100\n",
            "484/484 [==============================] - 13s 27ms/step - loss: 1.2520 - accuracy: 0.7859\n",
            "Epoch 98/100\n",
            "484/484 [==============================] - 13s 28ms/step - loss: 1.2406 - accuracy: 0.7841\n",
            "Epoch 99/100\n",
            "484/484 [==============================] - 13s 27ms/step - loss: 1.2309 - accuracy: 0.7893\n",
            "Epoch 100/100\n",
            "484/484 [==============================] - 13s 27ms/step - loss: 1.2150 - accuracy: 0.7901\n"
          ],
          "name": "stdout"
        }
      ]
    },
    {
      "cell_type": "code",
      "metadata": {
        "id": "FYmUaPCtc_Ii",
        "colab_type": "code",
        "colab": {
          "base_uri": "https://localhost:8080/",
          "height": 545
        },
        "outputId": "3ae3205c-5167-49ff-ada2-e15ede68fa22"
      },
      "source": [
        "#Plotting loss and accuracy VS epochs\n",
        "import matplotlib.pyplot as plt\n",
        "acc = history.history['accuracy']\n",
        "loss = history.history['loss']\n",
        "\n",
        "epochs = range(len(acc))\n",
        "\n",
        "plt.plot(epochs, acc, 'b', label='Training accuracy')\n",
        "plt.title('Training accuracy')\n",
        "\n",
        "plt.figure()\n",
        "\n",
        "plt.plot(epochs, loss, 'b', label='Training Loss')\n",
        "plt.title('Training loss')\n",
        "plt.legend()\n",
        "\n",
        "plt.show()"
      ],
      "execution_count": null,
      "outputs": [
        {
          "output_type": "display_data",
          "data": {
            "image/png": "[encoded data removed]",
            "text/plain": [
              "<Figure size 432x288 with 1 Axes>"
            ]
          },
          "metadata": {
            "tags": [],
            "needs_background": "light"
          }
        },
        {
          "output_type": "display_data",
          "data": {
            "image/png": "[encoded data removed]",
            "text/plain": [
              "<Figure size 432x288 with 1 Axes>"
            ]
          },
          "metadata": {
            "tags": [],
            "needs_background": "light"
          }
        }
      ]
    },
    {
      "cell_type": "code",
      "metadata": {
        "id": "kJ_WlS79dUv5",
        "colab_type": "code",
        "colab": {
          "base_uri": "https://localhost:8080/",
          "height": 104
        },
        "outputId": "6d3b3fe1-4f34-493b-f8fa-61728cf6d165"
      },
      "source": [
        "#Creating a poem by using the seed sentence as the input sequence of words\n",
        "#100 new words are going to be created \n",
        "seed_text = \"Look in thy glass, and tell the face thou viewest\"\n",
        "next_words = 100\n",
        "  \n",
        "for _ in range(next_words):\n",
        "\ttoken_list = tokenizer.texts_to_sequences([seed_text])[0]\n",
        "\ttoken_list = pad_sequences([token_list], maxlen=max_sequence_len-1, padding='pre')\n",
        "\tpredicted = model.predict_classes(token_list, verbose=0)\n",
        "\toutput_word = \"\"\n",
        "\tfor word, index in tokenizer.word_index.items():\n",
        "\t\tif index == predicted:\n",
        "\t\t\toutput_word = word\n",
        "\t\t\tbreak\n",
        "\tseed_text += \" \" + output_word\n",
        "print(seed_text)"
      ],
      "execution_count": null,
      "outputs": [
        {
          "output_type": "stream",
          "text": [
            "WARNING:tensorflow:From <ipython-input-6-7cc428d7d97a>:9: Sequential.predict_classes (from tensorflow.python.keras.engine.sequential) is deprecated and will be removed after 2021-01-01.\n",
            "Instructions for updating:\n",
            "Please use instead:* `np.argmax(model.predict(x), axis=-1)`,   if your model does multi-class classification   (e.g. if it uses a `softmax` last-layer activation).* `(model.predict(x) > 0.5).astype(\"int32\")`,   if your model does binary classification   (e.g. if it uses a `sigmoid` last-layer activation).\n",
            "Look in thy glass, and tell the face thou viewest room room room give thee so long form back alone well new parts of show him me me in thee are bring that mine own sight are view increase rare seen seen pride leaves rolling out well hours of sinful rolling parts of thee now prove thee alone dear heart away seem worth in fullness leave well foes blot the truth in store in loss or loss no fire out up afloat quite gone and all too dead mother bright eye new delight seen hate sang painted worth of thine best ' show me more own brow rhyme happy might\n"
          ],
          "name": "stdout"
        }
      ]
    }
  ]
}